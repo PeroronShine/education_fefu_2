{
  "nbformat": 4,
  "nbformat_minor": 0,
  "metadata": {
    "colab": {
      "provenance": []
    },
    "kernelspec": {
      "name": "python3",
      "display_name": "Python 3"
    },
    "language_info": {
      "name": "python"
    }
  },
  "cells": [
    {
      "cell_type": "markdown",
      "source": [
        "дана база данных, содержащая информацию об индийцах. целевая колонка - депрессия. необходимо обработать данные и написать модель предсказывающая депрессию (бинамиризация)"
      ],
      "metadata": {
        "id": "8JeP9IDcfc5g"
      }
    },
    {
      "cell_type": "markdown",
      "source": [
        "Состав команды\n",
        "\n",
        "Есакова Елизавета\n",
        "\n",
        "Моттуева Уруйдана\n",
        "\n",
        "Сапожков Николай\n",
        "\n",
        "Шабанова Надежда"
      ],
      "metadata": {
        "id": "o8wMqg31rgXH"
      }
    },
    {
      "cell_type": "markdown",
      "source": [
        "Совместная работа\n",
        "Координация:\n",
        "\n",
        "-----------------------------\n",
        "\n",
        "Участник 1 передаёт обработанные данные и пайплайн Участнику 2.\n",
        "\n",
        "Участник 2 передаёт настроенный GridSearchCV Участнику 3.\n",
        "\n",
        "Участник 3 обучает модель и передаёт результаты Участнику 4.\n",
        "\n",
        "Участник 4 анализирует и представляет итоговые результаты.\n",
        "\n",
        "----------------------\n",
        "\n",
        "Инструменты:\n",
        "\n",
        "Телеграмм,\n",
        "Google Colab.\n",
        "\n",
        "Проверка:\n",
        "\n",
        "Каждый участник проверяет свою и чужие части кода.\n",
        "\n",
        "Финализация кода и результатов проводится совместно."
      ],
      "metadata": {
        "id": "5chUvOkQqixA"
      }
    },
    {
      "cell_type": "code",
      "source": [
        "import pandas as pd\n",
        "import numpy as np\n",
        "from sklearn.model_selection import train_test_split\n",
        "from sklearn.preprocessing import StandardScaler, OneHotEncoder\n",
        "from sklearn.compose import ColumnTransformer\n",
        "from sklearn.pipeline import Pipeline\n",
        "from sklearn.impute import SimpleImputer\n",
        "from sklearn.ensemble import RandomForestClassifier\n",
        "from sklearn.metrics import classification_report, accuracy_score\n",
        "from sklearn.model_selection import GridSearchCV\n",
        "\n",
        "df = pd.read_csv('final_depression_dataset_1.csv')\n",
        "\n",
        "print(df.info())\n",
        "print(df.head(5))\n",
        "print(df['Depression'].value_counts())"
      ],
      "metadata": {
        "colab": {
          "base_uri": "https://localhost:8080/"
        },
        "id": "C_SmCaAnbgv0",
        "outputId": "23815e8d-b71c-4a08-bb9e-d8769bae0426"
      },
      "execution_count": null,
      "outputs": [
        {
          "output_type": "stream",
          "name": "stdout",
          "text": [
            "<class 'pandas.core.frame.DataFrame'>\n",
            "RangeIndex: 2556 entries, 0 to 2555\n",
            "Data columns (total 19 columns):\n",
            " #   Column                                 Non-Null Count  Dtype  \n",
            "---  ------                                 --------------  -----  \n",
            " 0   Name                                   2556 non-null   object \n",
            " 1   Gender                                 2556 non-null   object \n",
            " 2   Age                                    2556 non-null   int64  \n",
            " 3   City                                   2556 non-null   object \n",
            " 4   Working Professional or Student        2556 non-null   object \n",
            " 5   Profession                             1883 non-null   object \n",
            " 6   Academic Pressure                      502 non-null    float64\n",
            " 7   Work Pressure                          2054 non-null   float64\n",
            " 8   CGPA                                   502 non-null    float64\n",
            " 9   Study Satisfaction                     502 non-null    float64\n",
            " 10  Job Satisfaction                       2054 non-null   float64\n",
            " 11  Sleep Duration                         2556 non-null   object \n",
            " 12  Dietary Habits                         2556 non-null   object \n",
            " 13  Degree                                 2556 non-null   object \n",
            " 14  Have you ever had suicidal thoughts ?  2556 non-null   object \n",
            " 15  Work/Study Hours                       2556 non-null   int64  \n",
            " 16  Financial Stress                       2556 non-null   int64  \n",
            " 17  Family History of Mental Illness       2556 non-null   object \n",
            " 18  Depression                             2556 non-null   object \n",
            "dtypes: float64(5), int64(3), object(11)\n",
            "memory usage: 379.5+ KB\n",
            "None\n",
            "      Name  Gender  Age       City Working Professional or Student  \\\n",
            "0    Pooja  Female   37  Ghaziabad            Working Professional   \n",
            "1  Reyansh    Male   60     Kalyan            Working Professional   \n",
            "2    Manvi  Female   42     Bhopal            Working Professional   \n",
            "3     Isha  Female   44      Thane            Working Professional   \n",
            "4    Aarav    Male   48     Indore            Working Professional   \n",
            "\n",
            "          Profession  Academic Pressure  Work Pressure  CGPA  \\\n",
            "0            Teacher                NaN            2.0   NaN   \n",
            "1  Financial Analyst                NaN            4.0   NaN   \n",
            "2            Teacher                NaN            2.0   NaN   \n",
            "3            Teacher                NaN            3.0   NaN   \n",
            "4     UX/UI Designer                NaN            4.0   NaN   \n",
            "\n",
            "   Study Satisfaction  Job Satisfaction Sleep Duration Dietary Habits Degree  \\\n",
            "0                 NaN               4.0      7-8 hours       Moderate     MA   \n",
            "1                 NaN               3.0      5-6 hours      Unhealthy  B.Com   \n",
            "2                 NaN               3.0      5-6 hours       Moderate  M.Com   \n",
            "3                 NaN               5.0      7-8 hours        Healthy     MD   \n",
            "4                 NaN               3.0      7-8 hours       Moderate     BE   \n",
            "\n",
            "  Have you ever had suicidal thoughts ?  Work/Study Hours  Financial Stress  \\\n",
            "0                                    No                 6                 2   \n",
            "1                                   Yes                 0                 4   \n",
            "2                                    No                 0                 2   \n",
            "3                                   Yes                 1                 2   \n",
            "4                                   Yes                 6                 5   \n",
            "\n",
            "  Family History of Mental Illness Depression  \n",
            "0                               No         No  \n",
            "1                              Yes         No  \n",
            "2                               No         No  \n",
            "3                              Yes         No  \n",
            "4                              Yes         No  \n",
            "Depression\n",
            "No     2101\n",
            "Yes     455\n",
            "Name: count, dtype: int64\n"
          ]
        }
      ]
    },
    {
      "cell_type": "code",
      "source": [
        "df['CGPA'].fillna(df['CGPA'].median(), inplace=True)\n",
        "df['Study Satisfaction'].fillna(df['Study Satisfaction'].median(), inplace=True)\n",
        "df['Job Satisfaction'].fillna(df['Job Satisfaction'].median(), inplace=True)"
      ],
      "metadata": {
        "colab": {
          "base_uri": "https://localhost:8080/"
        },
        "collapsed": true,
        "id": "fLQ8hO3Qgm5F",
        "outputId": "0ded7f3b-1004-4bbd-97d2-4e72e7b599ae"
      },
      "execution_count": null,
      "outputs": [
        {
          "output_type": "stream",
          "name": "stderr",
          "text": [
            "<ipython-input-13-4690dabb2d70>:1: FutureWarning: A value is trying to be set on a copy of a DataFrame or Series through chained assignment using an inplace method.\n",
            "The behavior will change in pandas 3.0. This inplace method will never work because the intermediate object on which we are setting values always behaves as a copy.\n",
            "\n",
            "For example, when doing 'df[col].method(value, inplace=True)', try using 'df.method({col: value}, inplace=True)' or df[col] = df[col].method(value) instead, to perform the operation inplace on the original object.\n",
            "\n",
            "\n",
            "  df['CGPA'].fillna(df['CGPA'].median(), inplace=True)\n",
            "<ipython-input-13-4690dabb2d70>:2: FutureWarning: A value is trying to be set on a copy of a DataFrame or Series through chained assignment using an inplace method.\n",
            "The behavior will change in pandas 3.0. This inplace method will never work because the intermediate object on which we are setting values always behaves as a copy.\n",
            "\n",
            "For example, when doing 'df[col].method(value, inplace=True)', try using 'df.method({col: value}, inplace=True)' or df[col] = df[col].method(value) instead, to perform the operation inplace on the original object.\n",
            "\n",
            "\n",
            "  df['Study Satisfaction'].fillna(df['Study Satisfaction'].median(), inplace=True)\n",
            "<ipython-input-13-4690dabb2d70>:3: FutureWarning: A value is trying to be set on a copy of a DataFrame or Series through chained assignment using an inplace method.\n",
            "The behavior will change in pandas 3.0. This inplace method will never work because the intermediate object on which we are setting values always behaves as a copy.\n",
            "\n",
            "For example, when doing 'df[col].method(value, inplace=True)', try using 'df.method({col: value}, inplace=True)' or df[col] = df[col].method(value) instead, to perform the operation inplace on the original object.\n",
            "\n",
            "\n",
            "  df['Job Satisfaction'].fillna(df['Job Satisfaction'].median(), inplace=True)\n"
          ]
        }
      ]
    },
    {
      "cell_type": "code",
      "source": [
        "df['Sleep Duration'] = df['Sleep Duration'].astype('category')\n",
        "df['Dietary Habits'] = df['Dietary Habits'].astype('category')"
      ],
      "metadata": {
        "id": "HqTr7resgqFJ"
      },
      "execution_count": null,
      "outputs": []
    },
    {
      "cell_type": "code",
      "source": [
        "X = df.drop('Depression', axis=1)\n",
        "y = df['Depression']"
      ],
      "metadata": {
        "id": "Esr7wrhbgrkR"
      },
      "execution_count": null,
      "outputs": []
    },
    {
      "cell_type": "code",
      "source": [
        "numeric_features = ['Age', 'Academic Pressure', 'Work Pressure', 'CGPA',\n",
        "                   'Study Satisfaction', 'Job Satisfaction', 'Work/Study Hours',\n",
        "                   'Financial Stress']\n",
        "categorical_features = ['Gender', 'City', 'Working Professional or Student',\n",
        "                       'Profession', 'Sleep Duration', 'Dietary Habits', 'Degree',\n",
        "                       'Have you ever had suicidal thoughts ?', 'Family History of Mental Illness']\n",
        "\n",
        "numeric_transformer = Pipeline(steps=[\n",
        "    ('imputer', SimpleImputer(strategy='median')),\n",
        "    ('scaler', StandardScaler())])\n",
        "\n",
        "categorical_transformer = Pipeline(steps=[\n",
        "    ('imputer', SimpleImputer(strategy='most_frequent')),\n",
        "    ('onehot', OneHotEncoder(handle_unknown='ignore'))])\n",
        "\n",
        "preprocessor = ColumnTransformer(\n",
        "    transformers=[\n",
        "        ('num', numeric_transformer, numeric_features),\n",
        "        ('cat', categorical_transformer, categorical_features)])\n",
        "\n",
        "pipeline = Pipeline(steps=[('preprocessor', preprocessor),\n",
        "                           ('classifier', RandomForestClassifier(random_state=42))])"
      ],
      "metadata": {
        "id": "jQpFoh8OgupB"
      },
      "execution_count": null,
      "outputs": []
    },
    {
      "cell_type": "code",
      "source": [
        "X_train, X_test, y_train, y_test = train_test_split(X, y, test_size=0.2, random_state=42, stratify=y)\n",
        "\n",
        "pipeline.fit(X_train, y_train)\n",
        "\n",
        "y_pred = pipeline.predict(X_test)\n",
        "\n",
        "print(\"Accuracy:\", accuracy_score(y_test, y_pred))\n",
        "print(classification_report(y_test, y_pred))"
      ],
      "metadata": {
        "colab": {
          "base_uri": "https://localhost:8080/"
        },
        "id": "uEOcDyoSg4Vq",
        "outputId": "6ba847e8-8eef-414c-d396-662e5d8048d6"
      },
      "execution_count": null,
      "outputs": [
        {
          "output_type": "stream",
          "name": "stdout",
          "text": [
            "Accuracy: 0.9375\n",
            "              precision    recall  f1-score   support\n",
            "\n",
            "          No       0.95      0.98      0.96       421\n",
            "         Yes       0.89      0.74      0.81        91\n",
            "\n",
            "    accuracy                           0.94       512\n",
            "   macro avg       0.92      0.86      0.88       512\n",
            "weighted avg       0.94      0.94      0.94       512\n",
            "\n"
          ]
        }
      ]
    },
    {
      "cell_type": "code",
      "source": [
        "param_grid = {\n",
        "    'classifier__n_estimators': [100, 200],\n",
        "    'classifier__max_depth': [None, 10, 20],\n",
        "    'classifier__min_samples_split': [2, 5],\n",
        "    'classifier__min_samples_leaf': [1, 2]\n",
        "}\n",
        "\n",
        "grid_search = GridSearchCV(pipeline, param_grid, cv=5, n_jobs=-1, verbose=1)\n",
        "grid_search.fit(X_train, y_train)\n",
        "\n",
        "print(\"Best parameters:\", grid_search.best_params_)\n",
        "\n",
        "best_model = grid_search.best_estimator_\n",
        "y_pred_best = best_model.predict(X_test)\n",
        "print(\"Best model accuracy:\", accuracy_score(y_test, y_pred_best))\n",
        "print(classification_report(y_test, y_pred_best))"
      ],
      "metadata": {
        "colab": {
          "base_uri": "https://localhost:8080/"
        },
        "id": "F3X3igHag6hv",
        "outputId": "1ba8b73f-719e-466f-af07-2e891ea04158"
      },
      "execution_count": null,
      "outputs": [
        {
          "output_type": "stream",
          "name": "stdout",
          "text": [
            "Fitting 5 folds for each of 24 candidates, totalling 120 fits\n",
            "Best parameters: {'classifier__max_depth': None, 'classifier__min_samples_leaf': 1, 'classifier__min_samples_split': 2, 'classifier__n_estimators': 200}\n",
            "Best model accuracy: 0.93359375\n",
            "              precision    recall  f1-score   support\n",
            "\n",
            "          No       0.94      0.98      0.96       421\n",
            "         Yes       0.88      0.73      0.80        91\n",
            "\n",
            "    accuracy                           0.93       512\n",
            "   macro avg       0.91      0.85      0.88       512\n",
            "weighted avg       0.93      0.93      0.93       512\n",
            "\n"
          ]
        }
      ]
    },
    {
      "cell_type": "code",
      "source": [
        "onehot_columns = list(pipeline.named_steps['preprocessor'].\n",
        "                     named_transformers_['cat'].\n",
        "                     named_steps['onehot'].\n",
        "                     get_feature_names_out(categorical_features))\n",
        "\n",
        "feature_names = numeric_features + onehot_columns\n",
        "\n",
        "importances = best_model.named_steps['classifier'].feature_importances_\n",
        "\n",
        "feature_importance_df = pd.DataFrame({'feature': feature_names, 'importance': importances})\n",
        "feature_importance_df = feature_importance_df.sort_values('importance', ascending=False)\n",
        "\n",
        "print(feature_importance_df.head(20))"
      ],
      "metadata": {
        "colab": {
          "base_uri": "https://localhost:8080/"
        },
        "id": "ODTPpLERg9Zw",
        "outputId": "872ecafa-fc98-4a97-bcdb-fdc894cbc22a"
      },
      "execution_count": null,
      "outputs": [
        {
          "output_type": "stream",
          "name": "stdout",
          "text": [
            "                                               feature  importance\n",
            "0                                                  Age    0.172049\n",
            "1                                    Academic Pressure    0.073579\n",
            "6                                     Work/Study Hours    0.049963\n",
            "111           Have you ever had suicidal thoughts ?_No    0.047003\n",
            "112          Have you ever had suicidal thoughts ?_Yes    0.045510\n",
            "7                                     Financial Stress    0.043818\n",
            "41   Working Professional or Student_Working Profes...    0.039474\n",
            "2                                        Work Pressure    0.035138\n",
            "5                                     Job Satisfaction    0.034833\n",
            "3                                                 CGPA    0.034600\n",
            "4                                   Study Satisfaction    0.031016\n",
            "40             Working Professional or Student_Student    0.029562\n",
            "74                                  Profession_Teacher    0.024545\n",
            "95                                     Degree_Class 12    0.021442\n",
            "83                            Dietary Habits_Unhealthy    0.012007\n",
            "79                    Sleep Duration_Less than 5 hours    0.011709\n",
            "81                              Dietary Habits_Healthy    0.011559\n",
            "113                Family History of Mental Illness_No    0.009677\n",
            "8                                        Gender_Female    0.009644\n",
            "9                                          Gender_Male    0.009066\n"
          ]
        }
      ]
    },
    {
      "cell_type": "code",
      "source": [
        "import joblib\n",
        "\n",
        "joblib.dump(best_model, 'depression_prediction_model.pkl')"
      ],
      "metadata": {
        "colab": {
          "base_uri": "https://localhost:8080/"
        },
        "id": "dF28vDTWhBgg",
        "outputId": "714c9025-065e-4122-a218-25fec1b764a4"
      },
      "execution_count": null,
      "outputs": [
        {
          "output_type": "execute_result",
          "data": {
            "text/plain": [
              "['depression_prediction_model.pkl']"
            ]
          },
          "metadata": {},
          "execution_count": 23
        }
      ]
    },
    {
      "cell_type": "code",
      "source": [
        "import pandas as pd\n",
        "\n",
        "# Пример новых данных\n",
        "new_data = pd.DataFrame({\n",
        "    'Name': ['Test User'],\n",
        "    'Gender': ['Male'],\n",
        "    'Age': [30],\n",
        "    'City': ['Mumbai'],\n",
        "    'Working Professional or Student': ['Working Professional'],\n",
        "    'Profession': ['Engineer'],\n",
        "    'Academic Pressure': [3],\n",
        "    'Work Pressure': [4],\n",
        "    'CGPA': [7.5],\n",
        "    'Study Satisfaction': [4],\n",
        "    'Job Satisfaction': [3],\n",
        "    'Sleep Duration': ['7-8 hours'],\n",
        "    'Dietary Habits': ['Moderate'],\n",
        "    'Degree': ['BE'],\n",
        "    'Have you ever had suicidal thoughts ?': ['No'],\n",
        "    'Work/Study Hours': [8],\n",
        "    'Financial Stress': [3],\n",
        "    'Family History of Mental Illness': ['No']\n",
        "})"
      ],
      "metadata": {
        "id": "hBTDW9OAkKXB"
      },
      "execution_count": null,
      "outputs": []
    },
    {
      "cell_type": "code",
      "source": [
        "prediction = model.predict(new_data)\n",
        "prediction_proba = model.predict_proba(new_data)\n",
        "\n",
        "print(f\"Prediction: {'Depression' if prediction[0] == 'Yes' else 'No Depression'}\")\n",
        "print(f\"Probability: {prediction_proba[0][1]*100:.2f}% chance of depression\")"
      ],
      "metadata": {
        "colab": {
          "base_uri": "https://localhost:8080/"
        },
        "id": "x0eIatgHkNEx",
        "outputId": "835492cd-fcf1-41b4-ee96-2199f17c3e04"
      },
      "execution_count": null,
      "outputs": [
        {
          "output_type": "stream",
          "name": "stdout",
          "text": [
            "Prediction: No Depression\n",
            "Probability: 4.50% chance of depression\n"
          ]
        }
      ]
    },
    {
      "cell_type": "code",
      "source": [
        "import joblib\n",
        "import pandas as pd\n",
        "\n",
        "model = joblib.load('depression_prediction_model.pkl')\n",
        "\n",
        "user_data = {\n",
        "    'Name': input(\"Enter name: \"),\n",
        "    'Gender': input(\"Gender (Male/Female): \"),\n",
        "    'Age': int(input(\"Age: \")),\n",
        "    'City': input(\"City: \"),\n",
        "    'Working Professional or Student': input(\"Working Professional or Student: \"),\n",
        "    'Profession': input(\"Profession: \"),\n",
        "    'Academic Pressure': int(input(\"Academic Pressure (1-5): \")),\n",
        "    'Work Pressure': int(input(\"Work Pressure (1-5): \")),\n",
        "    'CGPA': float(input(\"CGPA (0-10): \")),\n",
        "    'Study Satisfaction': int(input(\"Study Satisfaction (1-5): \")),\n",
        "    'Job Satisfaction': int(input(\"Job Satisfaction (1-5): \")),\n",
        "    'Sleep Duration': input(\"Sleep Duration: \"),\n",
        "    'Dietary Habits': input(\"Dietary Habits (Healthy/Moderate/Unhealthy): \"),\n",
        "    'Degree': input(\"Degree: \"),\n",
        "    'Have you ever had suicidal thoughts ?': input(\"Suicidal thoughts (Yes/No): \"),\n",
        "    'Work/Study Hours': int(input(\"Work/Study Hours: \")),\n",
        "    'Financial Stress': int(input(\"Financial Stress (1-5): \")),\n",
        "    'Family History of Mental Illness': input(\"Family History of Mental Illness (Yes/No): \")\n",
        "}\n",
        "\n",
        "new_data = pd.DataFrame([user_data])\n",
        "\n",
        "prediction = model.predict(new_data)\n",
        "probabilities = model.predict_proba(new_data)\n",
        "\n",
        "result = \"likely has depression\" if prediction[0] == 'Yes' else \"likely does not have depression\"\n",
        "confidence = probabilities[0][1]*100 if prediction[0] == 'Yes' else probabilities[0][0]*100\n",
        "\n",
        "print(f\"\\nResult: The model predicts that {user_data['Name']} {result}.\")\n",
        "print(f\"Confidence: {confidence:.2f}%\")"
      ],
      "metadata": {
        "colab": {
          "base_uri": "https://localhost:8080/",
          "height": 1000
        },
        "id": "IBwJzYlTjQF0",
        "outputId": "844da599-7035-47f6-adc8-37917c5bc507"
      },
      "execution_count": null,
      "outputs": [
        {
          "metadata": {
            "tags": null
          },
          "name": "stderr",
          "output_type": "stream",
          "text": [
            "ERROR:root:Internal Python error in the inspect module.\n",
            "Below is the traceback from this internal error.\n",
            "\n"
          ]
        },
        {
          "metadata": {
            "tags": null
          },
          "name": "stdout",
          "output_type": "stream",
          "text": [
            "Traceback (most recent call last):\n",
            "  File \"/usr/local/lib/python3.11/dist-packages/IPython/core/interactiveshell.py\", line 3553, in run_code\n",
            "    exec(code_obj, self.user_global_ns, self.user_ns)\n",
            "  File \"<ipython-input-30-b9ab53c584e0>\", line 8, in <cell line: 0>\n",
            "    'Gender': input(\"Gender (Male/Female): \"),\n",
            "              ^^^^^^^^^^^^^^^^^^^^^^^^^^^^^^^\n",
            "  File \"/usr/local/lib/python3.11/dist-packages/ipykernel/kernelbase.py\", line 1177, in raw_input\n",
            "    return self._input_request(\n",
            "           ^^^^^^^^^^^^^^^^^^^^\n",
            "  File \"/usr/local/lib/python3.11/dist-packages/ipykernel/kernelbase.py\", line 1219, in _input_request\n",
            "    raise KeyboardInterrupt(\"Interrupted by user\") from None\n",
            "KeyboardInterrupt: Interrupted by user\n",
            "\n",
            "During handling of the above exception, another exception occurred:\n",
            "\n",
            "Traceback (most recent call last):\n",
            "  File \"/usr/local/lib/python3.11/dist-packages/IPython/core/interactiveshell.py\", line 2099, in showtraceback\n",
            "    stb = value._render_traceback_()\n",
            "          ^^^^^^^^^^^^^^^^^^^^^^^^\n",
            "AttributeError: 'KeyboardInterrupt' object has no attribute '_render_traceback_'\n",
            "\n",
            "During handling of the above exception, another exception occurred:\n",
            "\n",
            "Traceback (most recent call last):\n",
            "  File \"/usr/local/lib/python3.11/dist-packages/IPython/core/ultratb.py\", line 1101, in get_records\n",
            "    return _fixed_getinnerframes(etb, number_of_lines_of_context, tb_offset)\n",
            "           ^^^^^^^^^^^^^^^^^^^^^^^^^^^^^^^^^^^^^^^^^^^^^^^^^^^^^^^^^^^^^^^^^\n",
            "  File \"/usr/local/lib/python3.11/dist-packages/IPython/core/ultratb.py\", line 248, in wrapped\n",
            "    return f(*args, **kwargs)\n",
            "           ^^^^^^^^^^^^^^^^^^\n",
            "  File \"/usr/local/lib/python3.11/dist-packages/IPython/core/ultratb.py\", line 281, in _fixed_getinnerframes\n",
            "    records = fix_frame_records_filenames(inspect.getinnerframes(etb, context))\n",
            "                                          ^^^^^^^^^^^^^^^^^^^^^^^^^^^^^^^^^^^^\n",
            "  File \"/usr/lib/python3.11/inspect.py\", line 1739, in getinnerframes\n",
            "    traceback_info = getframeinfo(tb, context)\n",
            "                     ^^^^^^^^^^^^^^^^^^^^^^^^^\n",
            "  File \"/usr/lib/python3.11/inspect.py\", line 1684, in getframeinfo\n",
            "    filename = getsourcefile(frame) or getfile(frame)\n",
            "               ^^^^^^^^^^^^^^^^^^^^\n",
            "  File \"/usr/lib/python3.11/inspect.py\", line 948, in getsourcefile\n",
            "    module = getmodule(object, filename)\n",
            "             ^^^^^^^^^^^^^^^^^^^^^^^^^^^\n",
            "  File \"/usr/lib/python3.11/inspect.py\", line 988, in getmodule\n",
            "    if ismodule(module) and hasattr(module, '__file__'):\n",
            "                            ^^^^^^^^^^^^^^^^^^^^^^^^^^^\n",
            "KeyboardInterrupt\n"
          ]
        },
        {
          "ename": "TypeError",
          "evalue": "object of type 'NoneType' has no len()",
          "output_type": "error",
          "traceback": [
            "\u001b[0;31m---------------------------------------------------------------------------\u001b[0m",
            "\u001b[0;31mKeyboardInterrupt\u001b[0m                         Traceback (most recent call last)",
            "    \u001b[0;31m[... skipping hidden 1 frame]\u001b[0m\n",
            "\u001b[0;32m<ipython-input-30-b9ab53c584e0>\u001b[0m in \u001b[0;36m<cell line: 0>\u001b[0;34m()\u001b[0m\n\u001b[1;32m      7\u001b[0m     \u001b[0;34m'Name'\u001b[0m\u001b[0;34m:\u001b[0m \u001b[0minput\u001b[0m\u001b[0;34m(\u001b[0m\u001b[0;34m\"Enter name: \"\u001b[0m\u001b[0;34m)\u001b[0m\u001b[0;34m,\u001b[0m\u001b[0;34m\u001b[0m\u001b[0;34m\u001b[0m\u001b[0m\n\u001b[0;32m----> 8\u001b[0;31m     \u001b[0;34m'Gender'\u001b[0m\u001b[0;34m:\u001b[0m \u001b[0minput\u001b[0m\u001b[0;34m(\u001b[0m\u001b[0;34m\"Gender (Male/Female): \"\u001b[0m\u001b[0;34m)\u001b[0m\u001b[0;34m,\u001b[0m\u001b[0;34m\u001b[0m\u001b[0;34m\u001b[0m\u001b[0m\n\u001b[0m\u001b[1;32m      9\u001b[0m     \u001b[0;34m'Age'\u001b[0m\u001b[0;34m:\u001b[0m \u001b[0mint\u001b[0m\u001b[0;34m(\u001b[0m\u001b[0minput\u001b[0m\u001b[0;34m(\u001b[0m\u001b[0;34m\"Age: \"\u001b[0m\u001b[0;34m)\u001b[0m\u001b[0;34m)\u001b[0m\u001b[0;34m,\u001b[0m\u001b[0;34m\u001b[0m\u001b[0;34m\u001b[0m\u001b[0m\n",
            "\u001b[0;32m/usr/local/lib/python3.11/dist-packages/ipykernel/kernelbase.py\u001b[0m in \u001b[0;36mraw_input\u001b[0;34m(self, prompt)\u001b[0m\n\u001b[1;32m   1176\u001b[0m             )\n\u001b[0;32m-> 1177\u001b[0;31m         return self._input_request(\n\u001b[0m\u001b[1;32m   1178\u001b[0m             \u001b[0mstr\u001b[0m\u001b[0;34m(\u001b[0m\u001b[0mprompt\u001b[0m\u001b[0;34m)\u001b[0m\u001b[0;34m,\u001b[0m\u001b[0;34m\u001b[0m\u001b[0;34m\u001b[0m\u001b[0m\n",
            "\u001b[0;32m/usr/local/lib/python3.11/dist-packages/ipykernel/kernelbase.py\u001b[0m in \u001b[0;36m_input_request\u001b[0;34m(self, prompt, ident, parent, password)\u001b[0m\n\u001b[1;32m   1218\u001b[0m                 \u001b[0;31m# re-raise KeyboardInterrupt, to truncate traceback\u001b[0m\u001b[0;34m\u001b[0m\u001b[0;34m\u001b[0m\u001b[0m\n\u001b[0;32m-> 1219\u001b[0;31m                 \u001b[0;32mraise\u001b[0m \u001b[0mKeyboardInterrupt\u001b[0m\u001b[0;34m(\u001b[0m\u001b[0;34m\"Interrupted by user\"\u001b[0m\u001b[0;34m)\u001b[0m \u001b[0;32mfrom\u001b[0m \u001b[0;32mNone\u001b[0m\u001b[0;34m\u001b[0m\u001b[0;34m\u001b[0m\u001b[0m\n\u001b[0m\u001b[1;32m   1220\u001b[0m             \u001b[0;32mexcept\u001b[0m \u001b[0mException\u001b[0m\u001b[0;34m:\u001b[0m\u001b[0;34m\u001b[0m\u001b[0;34m\u001b[0m\u001b[0m\n",
            "\u001b[0;31mKeyboardInterrupt\u001b[0m: Interrupted by user",
            "\nDuring handling of the above exception, another exception occurred:\n",
            "\u001b[0;31mAttributeError\u001b[0m                            Traceback (most recent call last)",
            "\u001b[0;32m/usr/local/lib/python3.11/dist-packages/IPython/core/interactiveshell.py\u001b[0m in \u001b[0;36mshowtraceback\u001b[0;34m(self, exc_tuple, filename, tb_offset, exception_only, running_compiled_code)\u001b[0m\n\u001b[1;32m   2098\u001b[0m                         \u001b[0;31m# in the engines. This should return a list of strings.\u001b[0m\u001b[0;34m\u001b[0m\u001b[0;34m\u001b[0m\u001b[0m\n\u001b[0;32m-> 2099\u001b[0;31m                         \u001b[0mstb\u001b[0m \u001b[0;34m=\u001b[0m \u001b[0mvalue\u001b[0m\u001b[0;34m.\u001b[0m\u001b[0m_render_traceback_\u001b[0m\u001b[0;34m(\u001b[0m\u001b[0;34m)\u001b[0m\u001b[0;34m\u001b[0m\u001b[0;34m\u001b[0m\u001b[0m\n\u001b[0m\u001b[1;32m   2100\u001b[0m                     \u001b[0;32mexcept\u001b[0m \u001b[0mException\u001b[0m\u001b[0;34m:\u001b[0m\u001b[0;34m\u001b[0m\u001b[0;34m\u001b[0m\u001b[0m\n",
            "\u001b[0;31mAttributeError\u001b[0m: 'KeyboardInterrupt' object has no attribute '_render_traceback_'",
            "\nDuring handling of the above exception, another exception occurred:\n",
            "\u001b[0;31mTypeError\u001b[0m                                 Traceback (most recent call last)",
            "    \u001b[0;31m[... skipping hidden 1 frame]\u001b[0m\n",
            "\u001b[0;32m/usr/local/lib/python3.11/dist-packages/IPython/core/interactiveshell.py\u001b[0m in \u001b[0;36mshowtraceback\u001b[0;34m(self, exc_tuple, filename, tb_offset, exception_only, running_compiled_code)\u001b[0m\n\u001b[1;32m   2099\u001b[0m                         \u001b[0mstb\u001b[0m \u001b[0;34m=\u001b[0m \u001b[0mvalue\u001b[0m\u001b[0;34m.\u001b[0m\u001b[0m_render_traceback_\u001b[0m\u001b[0;34m(\u001b[0m\u001b[0;34m)\u001b[0m\u001b[0;34m\u001b[0m\u001b[0;34m\u001b[0m\u001b[0m\n\u001b[1;32m   2100\u001b[0m                     \u001b[0;32mexcept\u001b[0m \u001b[0mException\u001b[0m\u001b[0;34m:\u001b[0m\u001b[0;34m\u001b[0m\u001b[0;34m\u001b[0m\u001b[0m\n\u001b[0;32m-> 2101\u001b[0;31m                         stb = self.InteractiveTB.structured_traceback(etype,\n\u001b[0m\u001b[1;32m   2102\u001b[0m                                             value, tb, tb_offset=tb_offset)\n\u001b[1;32m   2103\u001b[0m \u001b[0;34m\u001b[0m\u001b[0m\n",
            "\u001b[0;32m/usr/local/lib/python3.11/dist-packages/IPython/core/ultratb.py\u001b[0m in \u001b[0;36mstructured_traceback\u001b[0;34m(self, etype, value, tb, tb_offset, number_of_lines_of_context)\u001b[0m\n\u001b[1;32m   1365\u001b[0m         \u001b[0;32melse\u001b[0m\u001b[0;34m:\u001b[0m\u001b[0;34m\u001b[0m\u001b[0;34m\u001b[0m\u001b[0m\n\u001b[1;32m   1366\u001b[0m             \u001b[0mself\u001b[0m\u001b[0;34m.\u001b[0m\u001b[0mtb\u001b[0m \u001b[0;34m=\u001b[0m \u001b[0mtb\u001b[0m\u001b[0;34m\u001b[0m\u001b[0;34m\u001b[0m\u001b[0m\n\u001b[0;32m-> 1367\u001b[0;31m         return FormattedTB.structured_traceback(\n\u001b[0m\u001b[1;32m   1368\u001b[0m             self, etype, value, tb, tb_offset, number_of_lines_of_context)\n\u001b[1;32m   1369\u001b[0m \u001b[0;34m\u001b[0m\u001b[0m\n",
            "\u001b[0;32m/usr/local/lib/python3.11/dist-packages/IPython/core/ultratb.py\u001b[0m in \u001b[0;36mstructured_traceback\u001b[0;34m(self, etype, value, tb, tb_offset, number_of_lines_of_context)\u001b[0m\n\u001b[1;32m   1265\u001b[0m         \u001b[0;32mif\u001b[0m \u001b[0mmode\u001b[0m \u001b[0;32min\u001b[0m \u001b[0mself\u001b[0m\u001b[0;34m.\u001b[0m\u001b[0mverbose_modes\u001b[0m\u001b[0;34m:\u001b[0m\u001b[0;34m\u001b[0m\u001b[0;34m\u001b[0m\u001b[0m\n\u001b[1;32m   1266\u001b[0m             \u001b[0;31m# Verbose modes need a full traceback\u001b[0m\u001b[0;34m\u001b[0m\u001b[0;34m\u001b[0m\u001b[0m\n\u001b[0;32m-> 1267\u001b[0;31m             return VerboseTB.structured_traceback(\n\u001b[0m\u001b[1;32m   1268\u001b[0m                 \u001b[0mself\u001b[0m\u001b[0;34m,\u001b[0m \u001b[0metype\u001b[0m\u001b[0;34m,\u001b[0m \u001b[0mvalue\u001b[0m\u001b[0;34m,\u001b[0m \u001b[0mtb\u001b[0m\u001b[0;34m,\u001b[0m \u001b[0mtb_offset\u001b[0m\u001b[0;34m,\u001b[0m \u001b[0mnumber_of_lines_of_context\u001b[0m\u001b[0;34m\u001b[0m\u001b[0;34m\u001b[0m\u001b[0m\n\u001b[1;32m   1269\u001b[0m             )\n",
            "\u001b[0;32m/usr/local/lib/python3.11/dist-packages/IPython/core/ultratb.py\u001b[0m in \u001b[0;36mstructured_traceback\u001b[0;34m(self, etype, evalue, etb, tb_offset, number_of_lines_of_context)\u001b[0m\n\u001b[1;32m   1122\u001b[0m         \u001b[0;34m\"\"\"Return a nice text document describing the traceback.\"\"\"\u001b[0m\u001b[0;34m\u001b[0m\u001b[0;34m\u001b[0m\u001b[0m\n\u001b[1;32m   1123\u001b[0m \u001b[0;34m\u001b[0m\u001b[0m\n\u001b[0;32m-> 1124\u001b[0;31m         formatted_exception = self.format_exception_as_a_whole(etype, evalue, etb, number_of_lines_of_context,\n\u001b[0m\u001b[1;32m   1125\u001b[0m                                                                tb_offset)\n\u001b[1;32m   1126\u001b[0m \u001b[0;34m\u001b[0m\u001b[0m\n",
            "\u001b[0;32m/usr/local/lib/python3.11/dist-packages/IPython/core/ultratb.py\u001b[0m in \u001b[0;36mformat_exception_as_a_whole\u001b[0;34m(self, etype, evalue, etb, number_of_lines_of_context, tb_offset)\u001b[0m\n\u001b[1;32m   1080\u001b[0m \u001b[0;34m\u001b[0m\u001b[0m\n\u001b[1;32m   1081\u001b[0m \u001b[0;34m\u001b[0m\u001b[0m\n\u001b[0;32m-> 1082\u001b[0;31m         \u001b[0mlast_unique\u001b[0m\u001b[0;34m,\u001b[0m \u001b[0mrecursion_repeat\u001b[0m \u001b[0;34m=\u001b[0m \u001b[0mfind_recursion\u001b[0m\u001b[0;34m(\u001b[0m\u001b[0morig_etype\u001b[0m\u001b[0;34m,\u001b[0m \u001b[0mevalue\u001b[0m\u001b[0;34m,\u001b[0m \u001b[0mrecords\u001b[0m\u001b[0;34m)\u001b[0m\u001b[0;34m\u001b[0m\u001b[0;34m\u001b[0m\u001b[0m\n\u001b[0m\u001b[1;32m   1083\u001b[0m \u001b[0;34m\u001b[0m\u001b[0m\n\u001b[1;32m   1084\u001b[0m         \u001b[0mframes\u001b[0m \u001b[0;34m=\u001b[0m \u001b[0mself\u001b[0m\u001b[0;34m.\u001b[0m\u001b[0mformat_records\u001b[0m\u001b[0;34m(\u001b[0m\u001b[0mrecords\u001b[0m\u001b[0;34m,\u001b[0m \u001b[0mlast_unique\u001b[0m\u001b[0;34m,\u001b[0m \u001b[0mrecursion_repeat\u001b[0m\u001b[0;34m)\u001b[0m\u001b[0;34m\u001b[0m\u001b[0;34m\u001b[0m\u001b[0m\n",
            "\u001b[0;32m/usr/local/lib/python3.11/dist-packages/IPython/core/ultratb.py\u001b[0m in \u001b[0;36mfind_recursion\u001b[0;34m(etype, value, records)\u001b[0m\n\u001b[1;32m    380\u001b[0m     \u001b[0;31m# first frame (from in to out) that looks different.\u001b[0m\u001b[0;34m\u001b[0m\u001b[0;34m\u001b[0m\u001b[0m\n\u001b[1;32m    381\u001b[0m     \u001b[0;32mif\u001b[0m \u001b[0;32mnot\u001b[0m \u001b[0mis_recursion_error\u001b[0m\u001b[0;34m(\u001b[0m\u001b[0metype\u001b[0m\u001b[0;34m,\u001b[0m \u001b[0mvalue\u001b[0m\u001b[0;34m,\u001b[0m \u001b[0mrecords\u001b[0m\u001b[0;34m)\u001b[0m\u001b[0;34m:\u001b[0m\u001b[0;34m\u001b[0m\u001b[0;34m\u001b[0m\u001b[0m\n\u001b[0;32m--> 382\u001b[0;31m         \u001b[0;32mreturn\u001b[0m \u001b[0mlen\u001b[0m\u001b[0;34m(\u001b[0m\u001b[0mrecords\u001b[0m\u001b[0;34m)\u001b[0m\u001b[0;34m,\u001b[0m \u001b[0;36m0\u001b[0m\u001b[0;34m\u001b[0m\u001b[0;34m\u001b[0m\u001b[0m\n\u001b[0m\u001b[1;32m    383\u001b[0m \u001b[0;34m\u001b[0m\u001b[0m\n\u001b[1;32m    384\u001b[0m     \u001b[0;31m# Select filename, lineno, func_name to track frames with\u001b[0m\u001b[0;34m\u001b[0m\u001b[0;34m\u001b[0m\u001b[0m\n",
            "\u001b[0;31mTypeError\u001b[0m: object of type 'NoneType' has no len()"
          ]
        }
      ]
    }
  ]
}