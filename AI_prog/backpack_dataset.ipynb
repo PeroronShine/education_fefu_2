{
  "nbformat": 4,
  "nbformat_minor": 0,
  "metadata": {
    "colab": {
      "provenance": []
    },
    "kernelspec": {
      "name": "python3",
      "display_name": "Python 3"
    },
    "language_info": {
      "name": "python"
    }
  },
  "cells": [
    {
      "cell_type": "code",
      "source": [
        "!pip install catboost"
      ],
      "metadata": {
        "colab": {
          "base_uri": "https://localhost:8080/"
        },
        "id": "8pGcVOwRvZ0W",
        "outputId": "512dca96-eeb8-4c4c-d9ac-c32e5ce2b147"
      },
      "execution_count": null,
      "outputs": [
        {
          "output_type": "stream",
          "name": "stdout",
          "text": [
            "\u001b[33mWARNING: Ignoring invalid distribution ~vidia-cufft-cu12 (/usr/local/lib/python3.11/dist-packages)\u001b[0m\u001b[33m\n",
            "\u001b[0m\u001b[33mWARNING: Ignoring invalid distribution ~vidia-cufft-cu12 (/usr/local/lib/python3.11/dist-packages)\u001b[0m\u001b[33m\n",
            "\u001b[0mRequirement already satisfied: catboost in /usr/local/lib/python3.11/dist-packages (1.2.8)\n",
            "Requirement already satisfied: graphviz in /usr/local/lib/python3.11/dist-packages (from catboost) (0.20.3)\n",
            "Requirement already satisfied: matplotlib in /usr/local/lib/python3.11/dist-packages (from catboost) (3.10.0)\n",
            "Requirement already satisfied: numpy<3.0,>=1.16.0 in /usr/local/lib/python3.11/dist-packages (from catboost) (2.0.2)\n",
            "Requirement already satisfied: pandas>=0.24 in /usr/local/lib/python3.11/dist-packages (from catboost) (2.2.2)\n",
            "Requirement already satisfied: scipy in /usr/local/lib/python3.11/dist-packages (from catboost) (1.14.1)\n",
            "Requirement already satisfied: plotly in /usr/local/lib/python3.11/dist-packages (from catboost) (5.24.1)\n",
            "Requirement already satisfied: six in /usr/local/lib/python3.11/dist-packages (from catboost) (1.17.0)\n",
            "Requirement already satisfied: python-dateutil>=2.8.2 in /usr/local/lib/python3.11/dist-packages (from pandas>=0.24->catboost) (2.8.2)\n",
            "Requirement already satisfied: pytz>=2020.1 in /usr/local/lib/python3.11/dist-packages (from pandas>=0.24->catboost) (2025.2)\n",
            "Requirement already satisfied: tzdata>=2022.7 in /usr/local/lib/python3.11/dist-packages (from pandas>=0.24->catboost) (2025.2)\n",
            "Requirement already satisfied: contourpy>=1.0.1 in /usr/local/lib/python3.11/dist-packages (from matplotlib->catboost) (1.3.2)\n",
            "Requirement already satisfied: cycler>=0.10 in /usr/local/lib/python3.11/dist-packages (from matplotlib->catboost) (0.12.1)\n",
            "Requirement already satisfied: fonttools>=4.22.0 in /usr/local/lib/python3.11/dist-packages (from matplotlib->catboost) (4.57.0)\n",
            "Requirement already satisfied: kiwisolver>=1.3.1 in /usr/local/lib/python3.11/dist-packages (from matplotlib->catboost) (1.4.8)\n",
            "Requirement already satisfied: packaging>=20.0 in /usr/local/lib/python3.11/dist-packages (from matplotlib->catboost) (24.2)\n",
            "Requirement already satisfied: pillow>=8 in /usr/local/lib/python3.11/dist-packages (from matplotlib->catboost) (11.1.0)\n",
            "Requirement already satisfied: pyparsing>=2.3.1 in /usr/local/lib/python3.11/dist-packages (from matplotlib->catboost) (3.2.3)\n",
            "Requirement already satisfied: tenacity>=6.2.0 in /usr/local/lib/python3.11/dist-packages (from plotly->catboost) (9.1.2)\n",
            "\u001b[33mWARNING: Ignoring invalid distribution ~vidia-cufft-cu12 (/usr/local/lib/python3.11/dist-packages)\u001b[0m\u001b[33m\n",
            "\u001b[0m"
          ]
        }
      ]
    },
    {
      "cell_type": "code",
      "source": [
        "import pandas as pd\n",
        "import numpy as np\n",
        "from sklearn.preprocessing import StandardScaler, OneHotEncoder\n",
        "from sklearn.compose import ColumnTransformer\n",
        "from sklearn.model_selection import train_test_split\n",
        "from sklearn.metrics import mean_squared_error, mean_absolute_error\n",
        "from scipy.stats import zscore\n",
        "\n",
        "from catboost import CatBoostRegressor\n",
        "\n",
        "df = pd.read_csv(\"/content/train_backpack.csv\")\n",
        "\n",
        "categorical_features = [\"Brand\", \"Material\", \"Size\", \"Laptop Compartment\",\n",
        "                        \"Waterproof\", \"Style\", \"Color\"]\n",
        "numerical_features = [\"Weight Capacity (kg)\", \"Compartments\"]\n",
        "\n",
        "for col in categorical_features:\n",
        "    df[col].fillna(df[col].mode()[0], inplace=True)\n",
        "\n",
        "for col in numerical_features:\n",
        "    df[col].fillna(df[col].median(), inplace=True)\n",
        "\n",
        "def feature_engineering(df):\n",
        "    # Бинарные флаги\n",
        "    df['Has_Laptop_Compartment'] = df['Laptop Compartment'].map({'Yes': 1, 'No': 0})\n",
        "    df['Is_Waterproof'] = df['Waterproof'].map({'Yes': 1, 'No': 0})\n",
        "\n",
        "    # Числовое представление категорий\n",
        "    df['Size_Num'] = df['Size'].map({'Small': 1, 'Medium': 2, 'Large': 3})\n",
        "    df['Material_Quality'] = df['Material'].map({\n",
        "        'Leather': 3,\n",
        "        'Canvas': 2,\n",
        "        'Nylon': 2,\n",
        "        'Polyester': 1\n",
        "    })\n",
        "\n",
        "    # Взаимодействия и производные признаки\n",
        "    df['Quality_Capacity'] = df['Material_Quality'] * df['Weight Capacity (kg)']\n",
        "    df['Size_Capacity'] = df['Size_Num'] * df['Weight Capacity (kg)']\n",
        "    df['Capacity_Ratio'] = df['Weight Capacity (kg)'] / df['Compartments']\n",
        "    df['Weight_Capacity_Ratio'] = df['Weight Capacity (kg)'] / df['Weight Capacity (kg)'].max()\n",
        "    df['Weight_to_Compartments'] = df['Weight Capacity (kg)'] / (df['Compartments'] + 1)\n",
        "\n",
        "    # Комбинированные признаки\n",
        "    df['Brand_Material'] = df['Brand'].astype(str) + '_' + df['Material'].astype(str)\n",
        "    df['Brand_Size'] = df['Brand'].astype(str) + '_' + df['Size'].astype(str)\n",
        "    df['Style_Size'] = df['Style'] + '_' + df['Size']\n",
        "\n",
        "    # Категоризация\n",
        "    df['Compartments_Category'] = pd.cut(df['Compartments'],\n",
        "        bins=[0, 2, 5, 10, np.inf], labels=['Few', 'Moderate', 'Many', 'Very Many'])\n",
        "\n",
        "    return df\n",
        "\n",
        "df = feature_engineering(df)\n",
        "\n",
        "z_scores = np.abs(zscore(df[numerical_features]))\n",
        "df = df[(z_scores < 3).all(axis=1)]\n",
        "\n",
        "columns_to_encode = ['Brand', 'Material', 'Size', 'Laptop Compartment',\n",
        "                     'Waterproof', 'Style', 'Color', 'Brand_Material',\n",
        "                     'Brand_Size', 'Has_Laptop_Compartment', 'Is_Waterproof',\n",
        "                     'Compartments_Category', 'Style_Size']\n",
        "\n",
        "df_encoded = pd.get_dummies(df[columns_to_encode], columns=columns_to_encode, drop_first=True)\n",
        "\n",
        "scaler = StandardScaler()\n",
        "numerical_cols = ['Compartments', 'Weight Capacity (kg)',\n",
        "                  'Weight_Capacity_Ratio', 'Weight_to_Compartments']\n",
        "scaled_features = scaler.fit_transform(df[numerical_cols])\n",
        "\n",
        "X = np.hstack([df_encoded, scaled_features])\n",
        "y = df['Price']\n",
        "\n",
        "final_categorical_features = ['Brand', 'Material', 'Size', 'Laptop Compartment',\n",
        "                              'Waterproof', 'Style', 'Color', 'Brand_Material',\n",
        "                              'Brand_Size', 'Compartments_Category', 'Style_Size']\n",
        "\n",
        "final_numerical_features = ['Compartments', 'Weight Capacity (kg)',\n",
        "                            'Capacity_Ratio', 'Size_Num',\n",
        "                            'Material_Quality', 'Quality_Capacity',\n",
        "                            'Size_Capacity', 'Weight_Capacity_Ratio',\n",
        "                            'Weight_to_Compartments']\n",
        "\n",
        "preprocessor = ColumnTransformer(\n",
        "    transformers=[\n",
        "        ('num', StandardScaler(), final_numerical_features),\n",
        "        ('cat', OneHotEncoder(handle_unknown='ignore', drop='first'), final_categorical_features)\n",
        "    ])\n",
        "\n",
        "X = preprocessor.fit_transform(df.drop('Price', axis=1))\n",
        "y = df['Price']\n",
        "\n",
        "X_train, X_test, y_train, y_test = train_test_split(X, y, test_size=0.2, random_state=42)\n",
        "\n",
        "catboost_params = {\n",
        "    \"iterations\": 300,\n",
        "    \"learning_rate\": 0.1,\n",
        "    \"depth\": 6,\n",
        "    \"verbose\": 0,\n",
        "    \"random_seed\": 42\n",
        "}\n"
      ],
      "metadata": {
        "colab": {
          "base_uri": "https://localhost:8080/"
        },
        "id": "TewqmSWXvN6_",
        "outputId": "0e7206e0-d09f-48c4-d147-5df0ea6ae59b"
      },
      "execution_count": null,
      "outputs": [
        {
          "output_type": "stream",
          "name": "stderr",
          "text": [
            "<ipython-input-30-112396ca9453>:18: FutureWarning: A value is trying to be set on a copy of a DataFrame or Series through chained assignment using an inplace method.\n",
            "The behavior will change in pandas 3.0. This inplace method will never work because the intermediate object on which we are setting values always behaves as a copy.\n",
            "\n",
            "For example, when doing 'df[col].method(value, inplace=True)', try using 'df.method({col: value}, inplace=True)' or df[col] = df[col].method(value) instead, to perform the operation inplace on the original object.\n",
            "\n",
            "\n",
            "  df[col].fillna(df[col].mode()[0], inplace=True)\n",
            "<ipython-input-30-112396ca9453>:21: FutureWarning: A value is trying to be set on a copy of a DataFrame or Series through chained assignment using an inplace method.\n",
            "The behavior will change in pandas 3.0. This inplace method will never work because the intermediate object on which we are setting values always behaves as a copy.\n",
            "\n",
            "For example, when doing 'df[col].method(value, inplace=True)', try using 'df.method({col: value}, inplace=True)' or df[col] = df[col].method(value) instead, to perform the operation inplace on the original object.\n",
            "\n",
            "\n",
            "  df[col].fillna(df[col].median(), inplace=True)\n"
          ]
        }
      ]
    },
    {
      "cell_type": "code",
      "source": [
        "model = CatBoostRegressor(**catboost_params)\n",
        "model.fit(X_train, y_train, eval_set=(X_test, y_test), early_stopping_rounds=50, verbose=0)\n",
        "\n",
        "# 9. Оценка модели\n",
        "y_pred = model.predict(X_test)\n",
        "rmse = np.sqrt(mean_squared_error(y_test, y_pred))\n",
        "mae = mean_absolute_error(y_test, y_pred)\n",
        "\n",
        "print(f\"RMSE: {rmse:.4f}\")\n",
        "print(f\"MAE: {mae:.4f}\")\n",
        "\n",
        "# 10. Генерация предсказаний (если нужно)\n",
        "# Для генерации предсказаний на тестовых данных:\n",
        "# test_predictions = model.predict(X_test)\n"
      ],
      "metadata": {
        "colab": {
          "base_uri": "https://localhost:8080/"
        },
        "id": "ajMvy_x_vghP",
        "outputId": "f535ad50-4237-47c1-c504-a080914abe1b"
      },
      "execution_count": null,
      "outputs": [
        {
          "output_type": "stream",
          "name": "stdout",
          "text": [
            "RMSE: 38.9199\n",
            "MAE: 33.6471\n"
          ]
        }
      ]
    }
  ]
}